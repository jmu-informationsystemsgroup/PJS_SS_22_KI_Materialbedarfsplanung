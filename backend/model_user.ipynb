{
 "cells": [
  {
   "cell_type": "code",
   "execution_count": 18,
   "metadata": {},
   "outputs": [
    {
     "ename": "AttributeError",
     "evalue": "'NoneType' object has no attribute 'shape'",
     "output_type": "error",
     "traceback": [
      "\u001b[1;31m---------------------------------------------------------------------------\u001b[0m",
      "\u001b[1;31mAttributeError\u001b[0m                            Traceback (most recent call last)",
      "\u001b[1;32me:\\GitHubProjects\\UniFlutter\\PJS_SS_22_KI_Materialbedarfsplanung\\backend\\model_user.ipynb Zelle 1\u001b[0m in \u001b[0;36m<cell line: 33>\u001b[1;34m()\u001b[0m\n\u001b[0;32m     <a href='vscode-notebook-cell:/e%3A/GitHubProjects/UniFlutter/PJS_SS_22_KI_Materialbedarfsplanung/backend/model_user.ipynb#W0sZmlsZQ%3D%3D?line=30'>31</a>\u001b[0m img \u001b[39m=\u001b[39m cv2\u001b[39m.\u001b[39mimread(\u001b[39m'\u001b[39m\u001b[39massets/material_images/\u001b[39m\u001b[39m'\u001b[39m\u001b[39m+\u001b[39m name \u001b[39m+\u001b[39m\u001b[39m'\u001b[39m\u001b[39m.jpg\u001b[39m\u001b[39m'\u001b[39m)\n\u001b[0;32m     <a href='vscode-notebook-cell:/e%3A/GitHubProjects/UniFlutter/PJS_SS_22_KI_Materialbedarfsplanung/backend/model_user.ipynb#W0sZmlsZQ%3D%3D?line=31'>32</a>\u001b[0m img \u001b[39m=\u001b[39m img\u001b[39m.\u001b[39mresize((\u001b[39m300\u001b[39m,\u001b[39m400\u001b[39m,\u001b[39m3\u001b[39m))\n\u001b[1;32m---> <a href='vscode-notebook-cell:/e%3A/GitHubProjects/UniFlutter/PJS_SS_22_KI_Materialbedarfsplanung/backend/model_user.ipynb#W0sZmlsZQ%3D%3D?line=32'>33</a>\u001b[0m dimensions \u001b[39m=\u001b[39m img\u001b[39m.\u001b[39;49mshape\n\u001b[0;32m     <a href='vscode-notebook-cell:/e%3A/GitHubProjects/UniFlutter/PJS_SS_22_KI_Materialbedarfsplanung/backend/model_user.ipynb#W0sZmlsZQ%3D%3D?line=34'>35</a>\u001b[0m \u001b[39m# height, width, number of channels in image\u001b[39;00m\n\u001b[0;32m     <a href='vscode-notebook-cell:/e%3A/GitHubProjects/UniFlutter/PJS_SS_22_KI_Materialbedarfsplanung/backend/model_user.ipynb#W0sZmlsZQ%3D%3D?line=35'>36</a>\u001b[0m height \u001b[39m=\u001b[39m img\u001b[39m.\u001b[39mshape[\u001b[39m0\u001b[39m]\n",
      "\u001b[1;31mAttributeError\u001b[0m: 'NoneType' object has no attribute 'shape'"
     ]
    }
   ],
   "source": [
    "import sqlite3\n",
    "import tensorflow as tf\n",
    "import numpy as np\n",
    "from PIL import Image\n",
    "import matplotlib.pyplot as plt\n",
    "\n",
    "from keras.models import load_model\n",
    "from keras.utils import load_img\n",
    "from keras.utils import img_to_array\n",
    "\n",
    "import cv2\n",
    "\n",
    "# idee: diesem python programm wird eine projekt id vom Frontend übergeben, das programm nimmt daraufhin die datenbank zur hand (nützliches tool\n",
    "# zum öffnen der Datenbank: https://sqlitebrowser.org/dl/) öffnet die Bilddatentabelle und entnimmt \n",
    "# dieser welche Bilder im Ordner \"material images\" die projekt id haben, öffnet diese\n",
    "# und ermittelt den Wert. Diser wird wieder in die Bilddatentabelle eingetragen und kann so vom Frontend weiterverwendet werden\n",
    "\n",
    "\n",
    "# load model, insert in the folder first, check model under: https://netron.app/\n",
    "interpreter = tf.keras.models.load_model('material_model.h5')\n",
    "\n",
    "# load database\n",
    "try:\n",
    "    db = sqlite3.connect('assets/spachtlerData.db')\n",
    "except sqlite3.Error as e:\n",
    "    print(e)\n",
    "\n",
    "projectId = 1\n",
    "cur = db.cursor()\n",
    "\n",
    "# array aus Bilddateibezeichnungen\n",
    "array = cur.execute(\"SELECT * FROM tasks WHERE projectId=\"+projectId)\n",
    "\n",
    "# get the image name aus array\n",
    "name = '4'\n",
    "img = cv2.imread('assets/material_images/'+ name +'.jpg')\n",
    "\n",
    "dimensions = img.shape\n",
    " \n",
    "# height, width, number of channels in image\n",
    "height = img.shape[0]\n",
    "width = img.shape[1]\n",
    "channels = img.shape[2]\n",
    " \n",
    "print('Image Dimension    : ',dimensions)\n",
    "print('Image Height       : ',height)\n",
    "print('Image Width        : ',width)\n",
    "print('Number of Channels : ',channels)\n",
    "plt.imshow(img)\n",
    "\n",
    "print(img.shape)\n",
    "img = np.array(img, dtype=\"float32\")\n",
    "img = img[np.newaxis,:,:,:]\n",
    "\n",
    "# x = tf.keras.utils.img_to_array(img, dtype=\"float32\")\n",
    "\n",
    "# predict from image\n",
    "prediction = interpreter.predict(img)\n",
    "\n",
    "print(prediction)"
   ]
  }
 ],
 "metadata": {
  "kernelspec": {
   "display_name": "Python 3.10.5 64-bit (microsoft store)",
   "language": "python",
   "name": "python3"
  },
  "language_info": {
   "codemirror_mode": {
    "name": "ipython",
    "version": 3
   },
   "file_extension": ".py",
   "mimetype": "text/x-python",
   "name": "python",
   "nbconvert_exporter": "python",
   "pygments_lexer": "ipython3",
   "version": "3.10.5"
  },
  "orig_nbformat": 4,
  "vscode": {
   "interpreter": {
    "hash": "19d762ffc7d2f958e0963c75da0d959adf181f4ac62524ed3e80179df28269f1"
   }
  }
 },
 "nbformat": 4,
 "nbformat_minor": 2
}
