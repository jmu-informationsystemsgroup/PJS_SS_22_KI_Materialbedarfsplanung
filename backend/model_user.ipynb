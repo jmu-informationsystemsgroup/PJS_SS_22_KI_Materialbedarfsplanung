{
 "cells": [
  {
   "cell_type": "code",
   "execution_count": 10,
   "metadata": {},
   "outputs": [
    {
     "name": "stdout",
     "output_type": "stream",
     "text": [
      "3\n",
      "154838.703125\n",
      "4\n",
      "154838.703125\n",
      "5\n",
      "142811.75\n"
     ]
    }
   ],
   "source": [
    "import sqlite3\n",
    "import tensorflow as tf\n",
    "import numpy as np\n",
    "from PIL import Image\n",
    "import matplotlib.pyplot as plt\n",
    "\n",
    "from keras.models import load_model\n",
    "#from keras.utils import load_img\n",
    "#from keras.utils import img_to_array\n",
    "\n",
    "import cv2\n",
    "\n",
    "# idee: diesem python programm wird eine projekt id vom Frontend übergeben, das programm nimmt daraufhin die datenbank zur hand (nützliches tool\n",
    "# zum öffnen der Datenbank: https://sqlitebrowser.org/dl/, python Methodiken für SQL: https://www.sqlitetutorial.net/sqlite-python/) öffnet die Bilddatentabelle und entnimmt \n",
    "# dieser welche Bilder im Ordner \"material images\" die projekt id haben, öffnet diese\n",
    "# und ermittelt den Wert. Diser wird wieder in die Bilddatentabelle eingetragen und kann so vom Frontend weiterverwendet werden\n",
    "\n",
    "def runOnModell(projectId):\n",
    "    # load model, insert in the folder first, check model under: https://netron.app/\n",
    "    interpreter = tf.keras.models.load_model('material_model.h5')\n",
    "\n",
    "    # load database\n",
    "    try:\n",
    "        db = sqlite3.connect('assets/spachtlerData.db')\n",
    "    except sqlite3.Error as e:\n",
    "        print(e)\n",
    "\n",
    "    \n",
    "    cur = db.cursor()\n",
    "\n",
    "    # array aus Bilddateibezeichnungen\n",
    "    cur.execute(\"SELECT id FROM images WHERE projectId=\"+ str(projectId))\n",
    "    array = cur.fetchall()\n",
    "    for element in array:\n",
    "        id = element[0]\n",
    "        print(id)\n",
    "\n",
    "        # get the image name aus array\n",
    "        pathEl = str(id)\n",
    "        img = cv2.imread('assets/material_images/'+ pathEl +'.jpg')\n",
    "        dim= (400, 300)\n",
    "        img=cv2.resize(img, dim)  \n",
    "\n",
    "        img = np.array(img, dtype=\"float32\")\n",
    "        img = img[np.newaxis,:,:,:]\n",
    "\n",
    "        # predict from image\n",
    "        prediction = interpreter.predict(img)\n",
    "\n",
    "        floatVal = float(prediction[0][0])\n",
    "\n",
    "        outcomeAsString = str(floatVal)\n",
    "\n",
    "        print(outcomeAsString)\n",
    "\n",
    "        cur.execute(\"UPDATE images SET aiValue=\"+ outcomeAsString +\" WHERE id=\"+ pathEl)\n",
    "\n",
    "        db.commit()"
   ]
  }
 ],
 "metadata": {
  "kernelspec": {
   "display_name": "Python 3.10.5 64-bit (microsoft store)",
   "language": "python",
   "name": "python3"
  },
  "language_info": {
   "codemirror_mode": {
    "name": "ipython",
    "version": 3
   },
   "file_extension": ".py",
   "mimetype": "text/x-python",
   "name": "python",
   "nbconvert_exporter": "python",
   "pygments_lexer": "ipython3",
   "version": "3.10.5"
  },
  "orig_nbformat": 4,
  "vscode": {
   "interpreter": {
    "hash": "19d762ffc7d2f958e0963c75da0d959adf181f4ac62524ed3e80179df28269f1"
   }
  }
 },
 "nbformat": 4,
 "nbformat_minor": 2
}
