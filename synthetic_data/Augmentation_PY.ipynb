#Augmentation als python Script für Serialisierung der fehlgeschlagenen Augmentierungen

#Import der Pakete
import os
import cv2
import PIL
from PIL import Image 
import numpy as np
import skimage.io as io
import skimage.transform as transform
import matplotlib.pyplot as plt 
from matplotlib.patches import Rectangle
from skimage import img_as_ubyte
#%matplotlib inline
import random


##################### Rauschen ############################

#Pathdefinition:
import glob
#Einlesepfad
path1 = glob.glob("F:/Projektseminar/Alle_Bilder_Backup/*.jpg")  
#Einlesepfad Name
pathName="F:/Projektseminar/Alle_Bilder_Backup/"

#Speicherpfad Schärfe
path= "F:/Projektseminar/Augmented_Images/Rauschen/" 


#Random Noise: Salt and Pepper
from skimage.util import random_noise
n=0
img_number=1
i=2
while i< 3:
    for file in path1:
        img1= io.imread(file)
        img=img_as_ubyte(img1)
        #cv2.imshow("Image",img)
        noise_img=random_noise(img, mode='s&p', amount=0.2)
        noise_img=np.array(255*noise_img, dtype= 'uint8')
        #plt.imshow(noise_img)
    #Isolation der Bildbenennung
        name=os.listdir(pathName)[n]
        #print("Pathname= ", name)
        length=len(name)
        #print("länge des Namen= ", len)
    #Zerlegung der Bildbenennung
        if length==35:
            vorne= name[0:12] # 0:(st_spi_ver)
            #print("Vorne=", vorne)
            hinten= name[13:] #  (st_spi_ver+1):length
            #print("Hinten=", hinten)
            mod= name[12] # st_spi_ver
            #print("mod=", mod)
        elif length==36:
            vorne= name[0:12]
            hinten= name[13:]
            mod= name[12]
        elif length==37:
            vorne= name[0:13]
            hinten= name[14:]
            mod= name[13]
        elif length==38:
            vorne= name[0:14]
            hinten= name[15:]
            mod= name[14]     

        mod=2
        mod=str(mod)
        res=vorne+mod+hinten
        #print("res=", res)
        n=n+1
    #Speichern
        io.imsave(os.path.join(path+res), noise_img)
        cv2.waitKey(0)
        cv2.destroyAllWindows()
    i=i+1


##################### Helligkeit ############################

#Speicherpfad Helligkeit
path= "F:/Projektseminar/Augmented_Images/Helligkeit/"

#Farbraumtransformation: Verändern der Helligkeit
def change_brightness(img, value=30):
    hsv = cv2.cvtColor(img, cv2.COLOR_BGR2HSV)
    h, s, v = cv2.split(hsv)
    v = cv2.add(v,value)
    v[v > 255] = 255
    v[v < 0] = 0
    final_hsv = cv2.merge((h, s, v))
    img = cv2.cvtColor(final_hsv, cv2.COLOR_HSV2BGR)
    return img

#Dunkler
n=0
img_number=1
i=6 #Startwert für Anzahl der Durchläufe
BR_CN=-30 #Startwert der Helligkeit
while i< 7:
    for file in path1:
        img1= cv2.imread(file)
        img=img_as_ubyte(img1)
        BR_CN_File=str(BR_CN) #Conversion von Int zu String for Filename
        img2 = change_brightness(img, value=BR_CN) #increases
        plt.imshow(img2)
            #Isolation der Bildbenennung
        name=os.listdir(pathName)[n]
        print("Pathname= ", name)
        length=len(name)
        print("länge des Namen= ", len)
    #Zerlegung der Bildbenennung
        if length==35:
            vorne= name[0:16] # 0:(st_spi_ver)
            print("Vorne=", vorne)
            hinten= name[17:] #  (st_spi_ver+1):length
            print("Hinten=", hinten)
            mod= name[16] # st_spi_ver
            print("mod=", mod)
        elif length==36:
            vorne= name[0:17]
            hinten= name[18:]
            mod= name[17]
        elif length==37:
            vorne= name[0:18]
            hinten= name[19:]
            mod= name[18]
        elif length==38:
            vorne= name[0:19]
            hinten= name[20:]
            mod= name[19]     

        mod=3
        mod=str(mod)
        res=vorne+mod+hinten
        print("res=", res)
        n=n+1
    #Speichern
        cv2.imwrite(os.path.join(path+res), img2)
        cv2.waitKey(0)
        cv2.destroyAllWindows()
    #BR_CN=BR_CN+60          #Erhöhung der Helligkeit pro Durchlauf (i)
    i=i+1


#Heller
n=0
i=6
BR_CN=30 #Startwert der Helligkeit
while i< 7:
    for file in path1:
        img1= cv2.imread(file)
        img=img_as_ubyte(img1)
        BR_CN_File=str(BR_CN) #Conversion von Int zu String for Filename
        img2 = change_brightness(img, value=BR_CN) #increases
        plt.imshow(img2)
    #Isolation der Bildbenennung
        name=os.listdir(pathName)[n]
        print("Pathname= ", name)
        length=len(name)
        print("länge des Namen= ", len)
    #Zerlegung der Bildbenennung
        if length==35:
            vorne= name[0:16] # 0:(st_spi_ver)
            print("Vorne=", vorne)
            hinten= name[17:] #  (st_spi_ver+1):length
            print("Hinten=", hinten)
            mod= name[16] # st_spi_ver
            print("mod=", mod)
        elif length==36:
            vorne= name[0:17]
            hinten= name[18:]
            mod= name[17]
        elif length==37:
            vorne= name[0:18]
            hinten= name[19:]
            mod= name[18]
        elif length==38:
            vorne= name[0:19]
            hinten= name[20:]
            mod= name[19]     

        mod=2
        mod=str(mod)
        res=vorne+mod+hinten
        print("res=", res)
        n=n+1
    #Speichern
        cv2.imwrite(os.path.join(path+res), img2)
        cv2.waitKey(0)
        cv2.destroyAllWindows()
    #BR_CN=BR_CN+60 #Erhöhung der Helligkeit pro Durchlauf (i)
    i=i+1




##################### Helligkeit+Schärfe ############################

#Einlesepfad
path1 = glob.glob("F:/Projektseminar/Augmented_Images/Helligkeit/*.jpg") 
#Einlesepfad Name
pathName="F:/Projektseminar/Helligkeit/"

#Speicherpfad Helligkeit+Schärfe
path= "F:/Projektseminar/Augmented_Images/Helligkeit+Schaerfe/"

#Kernel Filter: 
#Schärfen mit 2 verschiedenen schärfe Kernel Filtern:
n=0
for file in path1:
    img1= cv2.imread(file)
    img=img_as_ubyte(img1)
    #cv2.imshow("Image",img)
    kernel = np.array([[-1,-1,-1], [-1,9,-1], [-1,-1,-1]])
    sharp_img = cv2.filter2D(img, -1, kernel)
    #plt.imshow(sharp_img)
#Isolation der Bildbenennung
    name=os.listdir(pathName)[n]
    #print("Pathname= ", name)
    length=len(name)
    #print("länge des Namen= ", len)
#Zerlegung der Bildbenennung
    if length==35:
        vorne= name[0:20] # 0:(st_spi_ver)
        #print("Vorne=", vorne)
        hinten= name[21:] #  (st_spi_ver+1):length
        #print("Hinten=", hinten)
        mod= name[20] # st_spi_ver
        #print("mod=", mod)
    elif length==36:
        vorne= name[0:21]
        hinten= name[22:]
        mod= name[21]
    elif length==37:
        vorne= name[0:22]
        hinten= name[23:]
        mod= name[22]
    elif length==38:
        vorne= name[0:23]
        hinten= name[24:]
        mod= name[23]     

    mod=2
    mod=str(mod)
    res=vorne+mod+hinten
    #print("res=", res)
    n=n+1
#Speichern
    cv2.imwrite(os.path.join(path+res), sharp_img)    
    cv2.waitKey(0)
    cv2.destroyAllWindows()


#Blurfilter
n=0
for file in path1:
    img1= cv2.imread(file)
    img=img_as_ubyte(img1)
    #cv2.imshow("Image",img)
    kernel = np.array([[0.11111,0.11111,0.11111], [0.11111,0.11111,0.11111], [0.11111,0.11111,0.11111]])
    blur_img2 = cv2.filter2D(img, -1, kernel)
    #plt.imshow(sharp_img)
#Isolation der Bildbenennung
    name=os.listdir(pathName)[n]
    #print("Pathname= ", name)
    length=len(name)
    #print("länge des Namen= ", len)
#Zerlegung der Bildbenennung
    if length==35:
        vorne= name[0:20] # 0:(st_spi_ver)
        #print("Vorne=", vorne)
        hinten= name[21:] #  (st_spi_ver+1):length
        #print("Hinten=", hinten)
        mod= name[20] # st_spi_ver
        #print("mod=", mod)
    elif length==36:
        vorne= name[0:21]
        hinten= name[22:]
        mod= name[21]
    elif length==37:
        vorne= name[0:22]
        hinten= name[23:]
        mod= name[22]
    elif length==38:
        vorne= name[0:23]
        hinten= name[24:]
        mod= name[23]   

    mod=3
    mod=str(mod)
    res=vorne+mod+hinten
    #print("res=", res)
    n=n+1
#Speichern
    cv2.imwrite(os.path.join(path+res), blur_img2)    
    cv2.waitKey(0)
    cv2.destroyAllWindows()



##################### Spiegeln+Rauschen ############################

#Einlesepfad
path1 = glob.glob("F:/Projektseminar/Augmented_Images/Rauschen/*.jpg") 
#Einlesepfad Name
pathName="F:/Projektseminar/Rauschen/"

#Speicherpfad Spiegeln+Rauschen
path= "F:/Projektseminar/Augmented_Images/Spiegeln+Rauschen/"

#Spieglen horizontal
img_number=1
n=0
for file in path1:
    img= io.imread(file) #img1
    img=img_as_ubyte(img) #Convert an image to unsigned byte format, with values in [0, 255].
    #cv2.imshow("Image",img)
    a=img
    a = cv2.flip(img, 1)
    #img_number +=1
    cv2.waitKey(0)
    cv2.destroyAllWindows()
#Anzeigen des Bildes
    #plt.imshow(a)
#Isolation der Bildbenennung
    name=os.listdir(pathName)[n]
    print("Pathname= ", name)
    length=len(name)
    print("länge des Namen= ", len)
#Zerlegung der Bildbenennung
    if length==35:
        vorne= name[0:8] # 0:(st_spi_ver)
        print("Vorne=", vorne)
        hinten= name[9:] #  (st_spi_ver+1):length
        print("Hinten=", hinten)
        mod= name[8] # st_spi_ver
        print("mod=", mod)
    elif length==36:
        vorne= name[0:9]
        hinten= name[10:]
        mod= name[9]
    elif length==37:
        vorne= name[0:10]
        hinten= name[11:]
        mod= name[10]
    elif length==38:
        vorne= name[0:11]
        hinten= name[12:]
        mod= name[11]     

    mod=2
    mod=str(mod)
    res=vorne+mod+hinten
    print("res=", res)
    n=n+1
#Speichern
    #cv2.imwrite(os.path.join(path+res), a)
    io.imsave(os.path.join(path+res), a)