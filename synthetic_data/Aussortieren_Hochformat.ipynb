{
 "cells": [
  {
   "cell_type": "markdown",
   "metadata": {},
   "source": [
    "Aussortieren der Hochformatbilder, da diese sonst gestrecht werden und nicht mehr dem originalen Format entsprechen"
   ]
  },
  {
   "cell_type": "code",
   "execution_count": 1,
   "metadata": {},
   "outputs": [],
   "source": [
    "#Import der Pakete\n",
    "import os\n",
    "import cv2\n",
    "import PIL\n",
    "from PIL import Image\n",
    "import numpy as np\n",
    "#import mxnet as mx: nützliches Paket, lässt sich leider nicht installieren (exotischer Fehler)\n",
    "import skimage.io as io\n",
    "import skimage.transform as transform\n",
    "import matplotlib.pyplot as plt \n",
    "from matplotlib.patches import Rectangle\n",
    "from skimage import img_as_ubyte\n",
    "%matplotlib inline\n",
    "import random\n",
    "import glob"
   ]
  },
  {
   "cell_type": "code",
   "execution_count": 51,
   "metadata": {},
   "outputs": [],
   "source": [
    "#Einlesepfad\n",
    "path1 = glob.glob(\"F:/Projektseminar/Augmented_Images/Gespiegelt/*.jpg\")   #'C:/Users/bened/OneDrive - Universität Würzburg/PJS - Intern/Neuronale Netze/Daten/Bilddaten (standardisierte Auflösung und Dateinamen)/*.jpg'      #\"C:/Users/bened/Pictures/PJS_Bildspeicher/*.PNG\"    \"F:/Projektseminar/Bildsammlung_Umbenennung/*.jpg\"\n",
    "#Einlesepfad Name\n",
    "pathName=\"F:/Projektseminar/Augmented_Images/Gespiegelt/\" #'C:/Users/bened/OneDrive - Universität Würzburg/PJS - Intern/Neuronale Netze/Daten/Bilddaten (standardisierte Auflösung und Dateinamen)/'                     #'C:/Users/bened/Pictures/PJS_Bildspeicher/'\n",
    "#img_number=1\n",
    "\n",
    "#Speicherpfad\n",
    "path= \"F:/Projektseminar/Augmented_Images/Gespiegelt/\" #'C:/Users/bened/OneDrive - Universität Würzburg/PJS - Intern/Neuronale Netze/Daten/Bilddaten (standardisierte Auflösung und Dateinamen)/Gespiegelt/'            #'C:/Users/bened/Pictures/PJS_Bildspeicher/'    \n",
    "#Hochkantordner\n",
    "Hochkant=\"Hochkant/\""
   ]
  },
  {
   "cell_type": "code",
   "execution_count": 53,
   "metadata": {},
   "outputs": [
    {
     "ename": "PermissionError",
     "evalue": "[WinError 32] The process cannot access the file because it is being used by another process: 'F:/Projektseminar/Augmented_Images/Gespiegelt\\\\1_1_1_10_2_1_1_1_1_1_1_1_1_2_1_1.jpg'",
     "output_type": "error",
     "traceback": [
      "\u001b[1;31m---------------------------------------------------------------------------\u001b[0m",
      "\u001b[1;31mPermissionError\u001b[0m                           Traceback (most recent call last)",
      "\u001b[1;32md:\\Projektseminar\\PJS_SS_22_KI_Materialbedarfsplanung\\synthetic_data\\Aussortieren_Hochformat.ipynb Cell 4\u001b[0m in \u001b[0;36m<cell line: 2>\u001b[1;34m()\u001b[0m\n\u001b[0;32m      <a href='vscode-notebook-cell:/d%3A/Projektseminar/PJS_SS_22_KI_Materialbedarfsplanung/synthetic_data/Aussortieren_Hochformat.ipynb#W3sZmlsZQ%3D%3D?line=6'>7</a>\u001b[0m     length\u001b[39m=\u001b[39m\u001b[39mlen\u001b[39m(name)\n\u001b[0;32m      <a href='vscode-notebook-cell:/d%3A/Projektseminar/PJS_SS_22_KI_Materialbedarfsplanung/synthetic_data/Aussortieren_Hochformat.ipynb#W3sZmlsZQ%3D%3D?line=7'>8</a>\u001b[0m     \u001b[39m#print(\"länge des Namen= \", length)\u001b[39;00m\n\u001b[0;32m      <a href='vscode-notebook-cell:/d%3A/Projektseminar/PJS_SS_22_KI_Materialbedarfsplanung/synthetic_data/Aussortieren_Hochformat.ipynb#W3sZmlsZQ%3D%3D?line=8'>9</a>\u001b[0m \u001b[39m#Löschen der Datei damit später keine Dopplung\u001b[39;00m\n\u001b[1;32m---> <a href='vscode-notebook-cell:/d%3A/Projektseminar/PJS_SS_22_KI_Materialbedarfsplanung/synthetic_data/Aussortieren_Hochformat.ipynb#W3sZmlsZQ%3D%3D?line=9'>10</a>\u001b[0m     os\u001b[39m.\u001b[39;49mremove(path1[n])\n\u001b[0;32m     <a href='vscode-notebook-cell:/d%3A/Projektseminar/PJS_SS_22_KI_Materialbedarfsplanung/synthetic_data/Aussortieren_Hochformat.ipynb#W3sZmlsZQ%3D%3D?line=10'>11</a>\u001b[0m \u001b[39m#Zerlegung der Bildbenennung\u001b[39;00m\n\u001b[0;32m     <a href='vscode-notebook-cell:/d%3A/Projektseminar/PJS_SS_22_KI_Materialbedarfsplanung/synthetic_data/Aussortieren_Hochformat.ipynb#W3sZmlsZQ%3D%3D?line=11'>12</a>\u001b[0m     \u001b[39mif\u001b[39;00m length\u001b[39m==\u001b[39m\u001b[39m35\u001b[39m:\n",
      "\u001b[1;31mPermissionError\u001b[0m: [WinError 32] The process cannot access the file because it is being used by another process: 'F:/Projektseminar/Augmented_Images/Gespiegelt\\\\1_1_1_10_2_1_1_1_1_1_1_1_1_2_1_1.jpg'"
     ]
    }
   ],
   "source": [
    "n=0\n",
    "for file in path1:\n",
    "    img= io.imread(file) #img1\n",
    "#Isolation der Bildbenennung\n",
    "    name=os.listdir(pathName)[n]\n",
    "    #print(\"Pathname= \", name)\n",
    "    length=len(name)\n",
    "    #print(\"länge des Namen= \", length)\n",
    "#Löschen der Datei damit später keine Dopplung\n",
    "    os.remove(path1[n])\n",
    "#Zerlegung der Bildbenennung\n",
    "    if length==35:\n",
    "        vorne= name[0:28] # 0:(st_spi_ver)\n",
    "        #print(\"Vorne=\", vorne)\n",
    "        hinten= name[29:] #  (st_spi_ver+1):length\n",
    "        #print(\"Hinten=\", hinten)\n",
    "        mod= name[28] # st_spi_ver\n",
    "    elif length==36:\n",
    "        vorne= name[0:29]\n",
    "        hinten= name[30:]\n",
    "        mod= name[29]\n",
    "    elif length==37:\n",
    "        vorne= name[0:30]\n",
    "        hinten= name[31:]\n",
    "        mod= name[30]\n",
    "    elif length==38:\n",
    "        vorne= name[0:31]\n",
    "        hinten= name[32:]\n",
    "        mod= name[31]\n",
    "    #print(\"Mod=\", mod)  \n",
    "    mod_Int=int(mod)\n",
    "    #print(type(mod_Int))\n",
    "    n=n+1\n",
    "#Speichern: Hochkante Bilder werden in separaten Ordner sortiert\n",
    "    if mod_Int==2:\n",
    "        io.imsave(os.path.join(path+Hochkant+name), img)\n",
    "        #print(\"Hochkant\")\n",
    "    else:\n",
    "        io.imsave(os.path.join(path+name), img)\n",
    "        #print(\"Quer\")\n"
   ]
  }
 ],
 "metadata": {
  "kernelspec": {
   "display_name": "Python 3.8.13 ('base')",
   "language": "python",
   "name": "python3"
  },
  "language_info": {
   "codemirror_mode": {
    "name": "ipython",
    "version": 3
   },
   "file_extension": ".py",
   "mimetype": "text/x-python",
   "name": "python",
   "nbconvert_exporter": "python",
   "pygments_lexer": "ipython3",
   "version": "3.8.13"
  },
  "orig_nbformat": 4,
  "vscode": {
   "interpreter": {
    "hash": "c8e63aa0cab361309dbca6cdb7e4eacdd0c3d72b8dc44414b8c692f4ca28a130"
   }
  }
 },
 "nbformat": 4,
 "nbformat_minor": 2
}
