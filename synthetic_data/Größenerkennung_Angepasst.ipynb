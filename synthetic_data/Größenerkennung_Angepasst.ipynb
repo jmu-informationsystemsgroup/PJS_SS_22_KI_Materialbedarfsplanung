{
 "cells": [
  {
   "cell_type": "code",
   "execution_count": 1,
   "metadata": {},
   "outputs": [],
   "source": [
    "import cv2\n",
    "import numpy as np\n",
    "import matplotlib.pyplot as plt \n",
    "import utlis_Angepasst\n"
   ]
  },
  {
   "cell_type": "code",
   "execution_count": 3,
   "metadata": {},
   "outputs": [
    {
     "name": "stdout",
     "output_type": "stream",
     "text": [
      "[[[237 291]]\n",
      "\n",
      " [[366 411]]\n",
      "\n",
      " [[166 394]]\n",
      "\n",
      " [[297 515]]]\n"
     ]
    }
   ],
   "source": [
    "cap = cv2.VideoCapture(0)\n",
    "cap.set(10,160)\n",
    "cap.set(3,1920) #width\n",
    "cap.set(4,1080) #hight\n",
    "#Skalierungsfaktor sonst wäre das Bild nur 210*297\n",
    "scale = 3\n",
    "wP = 210 *scale\n",
    "hP= 297 *scale\n",
    "\n",
    "#Bild einlesen:\n",
    "img = cv2.imread(\"F:\\\\Projektseminar\\\\Edge Detection\\\\Test.jpg\") #F:/Projektseminar/Baustellenbilder/Wand1_6.jpg\n",
    "i=1\n",
    "if i<2:  #while True: \n",
    "    imgContours , conts = utlis_Angepasst.getContours(img,minArea=10,filter=4, showCanny=True) #Filter 4 weil nur nach 4eckigen Objekten gesucht wird minArea=50000\n",
    "    if len(conts) != 0:\n",
    "        biggest = conts[0][2] #das ist die Kontur des Din A4 Blattes (muss fpr uns entfernt)\n",
    "        imgWarp = utlis_Angepasst.warpImg(img, biggest, wP,hP)\n",
    "        imgContours2, conts2 = utlis_Angepasst.getContours(imgWarp, #Warpen erstmal ausklammern: \"img\"\n",
    "                                                 minArea=2000, filter=4,\n",
    "                                                 cThr=[50,50],draw = False)\n",
    "        if len(conts) != 0:\n",
    "            for obj in conts2:\n",
    "                cv2.polylines(imgContours2,[obj[2]],True,(0,255,0),2)\n",
    "                nPoints = utlis_Angepasst.reorder(obj[2])\n",
    "                print(nPoints)\n",
    "                nW = round((utlis_Angepasst.findDis(nPoints[0][0]//scale,nPoints[1][0]//scale)/10),1) #\n",
    "                nH = round((utlis_Angepasst.findDis(nPoints[0][0]//scale,nPoints[2][0]//scale)/10),1)\n",
    "                cv2.arrowedLine(imgContours2, (nPoints[0][0][0], nPoints[0][0][1]), (nPoints[1][0][0], nPoints[1][0][1]),\n",
    "                                (255, 0, 255), 3, 8, 0, 0.05)\n",
    "                cv2.arrowedLine(imgContours2, (nPoints[0][0][0], nPoints[0][0][1]), (nPoints[2][0][0], nPoints[2][0][1]),\n",
    "                                (255, 0, 255), 3, 8, 0, 0.05)\n",
    "                x, y, w, h = obj[3]\n",
    "                cv2.putText(imgContours2, '{}cm'.format(nW), (x + 30, y - 10), cv2.FONT_HERSHEY_COMPLEX_SMALL, 1.5,\n",
    "                            (255, 0, 255), 2)\n",
    "                cv2.putText(imgContours2, '{}cm'.format(nH), (x - 70, y + h // 2), cv2.FONT_HERSHEY_COMPLEX_SMALL, 1.5,\n",
    "                            (255, 0, 255), 2)\n",
    "        cv2.imwrite(\"F:\\\\Projektseminar\\\\Edge Detection\\\\Resultat1.jpg\", imgContours2)\n",
    "        cv2.imwrite(\"F:\\\\Projektseminar\\\\Edge Detection\\\\Kanten2.jpg\", imgCanny) \n",
    "        #cv2.imshow('A4', imgContours2)\n",
    " \n",
    "    #img = cv2.resize(img,(0,0),None,0.5,0.5) #error: OpenCV(4.5.5) D:\\a\\opencv-python\\opencv-python\\opencv\\modules\\imgproc\\src\\resize.cpp:4058: error: (-215:Assertion failed) !dsize.empty() in function 'cv::resize'\n",
    "    #cv2.imshow('Original',img)\n",
    "    cv2.waitKey(1)\n",
    "    i=i+1"
   ]
  },
  {
   "cell_type": "code",
   "execution_count": 2,
   "metadata": {},
   "outputs": [],
   "source": [
    "#Bild Warpen:\n",
    "#https://towardsdatascience.com/image-processing-with-python-applying-homography-for-image-warping-84cd87d2108f\n",
    "#Statt der festgelegten Punkte im Bild müssen wir die Eckpunkte im Aruco Sticker benutzen!\n",
    "#Wahrscheinlich besser: https://www.youtube.com/watch?v=dpjhGobnCxU\n",
    "\n",
    "import matplotlib.pyplot as plt\n",
    "import numpy as np\n",
    "from matplotlib.patches import Circle\n",
    "from skimage import transform\n",
    "from skimage.io import imread, imshow\n",
    "import cv2\n",
    "\n",
    "img =cv2.imread(\"F:\\\\Projektseminar\\\\Edge Detection\\\\Test.jpg\")"
   ]
  },
  {
   "cell_type": "code",
   "execution_count": 4,
   "metadata": {},
   "outputs": [
    {
     "name": "stdout",
     "output_type": "stream",
     "text": [
      "[[4]]\n",
      "(array([[[413., 465.],\n",
      "        [908., 465.],\n",
      "        [908., 954.],\n",
      "        [413., 954.]]], dtype=float32),)\n",
      "Länge Arucosticker in Pixel 1968.0\n",
      "Ratio Pixel to cm 49.2\n"
     ]
    },
    {
     "ename": "NameError",
     "evalue": "name 'w' is not defined",
     "output_type": "error",
     "traceback": [
      "\u001b[1;31m---------------------------------------------------------------------------\u001b[0m",
      "\u001b[1;31mNameError\u001b[0m                                 Traceback (most recent call last)",
      "\u001b[1;32md:\\Projektseminar\\PJS_SS_22_KI_Materialbedarfsplanung\\synthetic_data\\Größenerkennung_Angepasst.ipynb Zelle 4\u001b[0m in \u001b[0;36m<cell line: 32>\u001b[1;34m()\u001b[0m\n\u001b[0;32m     <a href='vscode-notebook-cell:/d%3A/Projektseminar/PJS_SS_22_KI_Materialbedarfsplanung/synthetic_data/Gr%C3%B6%C3%9Fenerkennung_Angepasst.ipynb#ch0000003?line=31'>32</a>\u001b[0m \u001b[39mif\u001b[39;00m i\u001b[39m<\u001b[39m\u001b[39m2\u001b[39m:\n\u001b[0;32m     <a href='vscode-notebook-cell:/d%3A/Projektseminar/PJS_SS_22_KI_Materialbedarfsplanung/synthetic_data/Gr%C3%B6%C3%9Fenerkennung_Angepasst.ipynb#ch0000003?line=32'>33</a>\u001b[0m   img \u001b[39m=\u001b[39mcv2\u001b[39m.\u001b[39mimread(\u001b[39m\"\u001b[39m\u001b[39mF:\u001b[39m\u001b[39m\\\\\u001b[39;00m\u001b[39mProjektseminar\u001b[39m\u001b[39m\\\\\u001b[39;00m\u001b[39mEdge Detection\u001b[39m\u001b[39m\\\\\u001b[39;00m\u001b[39mAruco_Test.jpg\u001b[39m\u001b[39m\"\u001b[39m)\n\u001b[1;32m---> <a href='vscode-notebook-cell:/d%3A/Projektseminar/PJS_SS_22_KI_Materialbedarfsplanung/synthetic_data/Gr%C3%B6%C3%9Fenerkennung_Angepasst.ipynb#ch0000003?line=33'>34</a>\u001b[0m   findArucoMarkers(img)\n\u001b[0;32m     <a href='vscode-notebook-cell:/d%3A/Projektseminar/PJS_SS_22_KI_Materialbedarfsplanung/synthetic_data/Gr%C3%B6%C3%9Fenerkennung_Angepasst.ipynb#ch0000003?line=34'>35</a>\u001b[0m   \u001b[39m#dann Warpen\u001b[39;00m\n\u001b[0;32m     <a href='vscode-notebook-cell:/d%3A/Projektseminar/PJS_SS_22_KI_Materialbedarfsplanung/synthetic_data/Gr%C3%B6%C3%9Fenerkennung_Angepasst.ipynb#ch0000003?line=35'>36</a>\u001b[0m   \u001b[39m#Pixel to cm:\u001b[39;00m\n\u001b[0;32m     <a href='vscode-notebook-cell:/d%3A/Projektseminar/PJS_SS_22_KI_Materialbedarfsplanung/synthetic_data/Gr%C3%B6%C3%9Fenerkennung_Angepasst.ipynb#ch0000003?line=36'>37</a>\u001b[0m   \u001b[39m#pixel_cm_ratio=aruco_perimeter/Umfang #Warum existiert die Variable hier angeblich nicht? Frage für morgen https://youtu.be/lbgl2u6KrDU?t=2107\u001b[39;00m\n\u001b[0;32m     <a href='vscode-notebook-cell:/d%3A/Projektseminar/PJS_SS_22_KI_Materialbedarfsplanung/synthetic_data/Gr%C3%B6%C3%9Fenerkennung_Angepasst.ipynb#ch0000003?line=37'>38</a>\u001b[0m   \u001b[39m#print(pixel_cm_ratio)\u001b[39;00m\n\u001b[0;32m     <a href='vscode-notebook-cell:/d%3A/Projektseminar/PJS_SS_22_KI_Materialbedarfsplanung/synthetic_data/Gr%C3%B6%C3%9Fenerkennung_Angepasst.ipynb#ch0000003?line=38'>39</a>\u001b[0m   plt\u001b[39m.\u001b[39mimshow(img)\n",
      "\u001b[1;32md:\\Projektseminar\\PJS_SS_22_KI_Materialbedarfsplanung\\synthetic_data\\Größenerkennung_Angepasst.ipynb Zelle 4\u001b[0m in \u001b[0;36mfindArucoMarkers\u001b[1;34m(img, markerSize, totalMarkers, draw)\u001b[0m\n\u001b[0;32m     <a href='vscode-notebook-cell:/d%3A/Projektseminar/PJS_SS_22_KI_Materialbedarfsplanung/synthetic_data/Gr%C3%B6%C3%9Fenerkennung_Angepasst.ipynb#ch0000003?line=18'>19</a>\u001b[0m pixel_cm_ratio\u001b[39m=\u001b[39maruco_perimeter\u001b[39m/\u001b[39mUmfang \u001b[39m#Warum existiert die Variable hier angeblich nicht? Frage für morgen https://youtu.be/lbgl2u6KrDU?t=2107\u001b[39;00m\n\u001b[0;32m     <a href='vscode-notebook-cell:/d%3A/Projektseminar/PJS_SS_22_KI_Materialbedarfsplanung/synthetic_data/Gr%C3%B6%C3%9Fenerkennung_Angepasst.ipynb#ch0000003?line=19'>20</a>\u001b[0m \u001b[39mprint\u001b[39m(\u001b[39m\"\u001b[39m\u001b[39mRatio Pixel to cm\u001b[39m\u001b[39m\"\u001b[39m, pixel_cm_ratio)\n\u001b[1;32m---> <a href='vscode-notebook-cell:/d%3A/Projektseminar/PJS_SS_22_KI_Materialbedarfsplanung/synthetic_data/Gr%C3%B6%C3%9Fenerkennung_Angepasst.ipynb#ch0000003?line=20'>21</a>\u001b[0m object_width\u001b[39m=\u001b[39mw\u001b[39m/\u001b[39mpixel_cm_ratio\n\u001b[0;32m     <a href='vscode-notebook-cell:/d%3A/Projektseminar/PJS_SS_22_KI_Materialbedarfsplanung/synthetic_data/Gr%C3%B6%C3%9Fenerkennung_Angepasst.ipynb#ch0000003?line=21'>22</a>\u001b[0m object_hight\u001b[39m=\u001b[39mh\u001b[39m/\u001b[39mpixel_cm_ratio\n\u001b[0;32m     <a href='vscode-notebook-cell:/d%3A/Projektseminar/PJS_SS_22_KI_Materialbedarfsplanung/synthetic_data/Gr%C3%B6%C3%9Fenerkennung_Angepasst.ipynb#ch0000003?line=22'>23</a>\u001b[0m \u001b[39mreturn\u001b[39;00m(img)\n",
      "\u001b[1;31mNameError\u001b[0m: name 'w' is not defined"
     ]
    }
   ],
   "source": [
    "#Aruco Marker einbinden https://www.youtube.com/watch?v=v5a7pKSOJd8&t=2153s\n",
    "import cv2.aruco as aruco\n",
    "\n",
    "#Umfang des Aruco Stickers:\n",
    "Umfang=40\n",
    "\n",
    "def findArucoMarkers(img, markerSize=6, totalMarkers=250, draw=True):\n",
    "  imgGray=cv2.cvtColor(img, cv2.COLOR_RGB2GRAY)\n",
    "  key=getattr(aruco,f'DICT_{markerSize}X{markerSize}_{totalMarkers}') #getattr holt die Attribute aus Methode oben und legt sie ins Dict\n",
    "  arucoDict=aruco.Dictionary_get(key)\n",
    "  arucoParam=aruco.DetectorParameters_create()\n",
    "  bboxs, ids, rejected = aruco.detectMarkers(imgGray, arucoDict, parameters=arucoParam) # bboxs: Array mit den Koordinaten des Arucostickers\n",
    "  print(ids)\n",
    "  if draw:\n",
    "      aruco.drawDetectedMarkers(img, bboxs) # int_corners=np.int0(bboxs) ; cv2.polylines(img, [int_corners], True, (0,255,0), 5) individueller funktioniert aber nicht\n",
    "  print(bboxs)\n",
    "  aruco_perimeter= cv2.arcLength(bboxs[0], True) #das hier nach unten muss später in die andere Methode (getSize)\n",
    "  print(\"Länge Arucosticker in Pixel\", aruco_perimeter)\n",
    "  pixel_cm_ratio=aruco_perimeter/Umfang #Warum existiert die Variable hier angeblich nicht? Frage für morgen https://youtu.be/lbgl2u6KrDU?t=2107\n",
    "  print(\"Ratio Pixel to cm\", pixel_cm_ratio)\n",
    "  object_width=w/pixel_cm_ratio\n",
    "  object_hight=h/pixel_cm_ratio\n",
    "  return(img)\n",
    "\n",
    "#def getSize (img,bboxs,Umfang)\n",
    "  #Herausfinden wie man korrekt Funktionen schreibt für mehr Ordnung\n",
    "  #aruco_perimeter= cv2.arcLength(bboxs[0], True)\n",
    "  #print(\"Länge Arucosticker in Pixel\", aruco_perimeter) \n",
    "  #am Ende return ...\n",
    "\n",
    "i=1\n",
    "if i<2:\n",
    "  img =cv2.imread(\"F:\\\\Projektseminar\\\\Edge Detection\\\\Aruco_Test.jpg\")\n",
    "  findArucoMarkers(img)\n",
    "  #dann Warpen\n",
    "  #Pixel to cm:\n",
    "  #pixel_cm_ratio=aruco_perimeter/Umfang #Warum existiert die Variable hier angeblich nicht? Frage für morgen https://youtu.be/lbgl2u6KrDU?t=2107\n",
    "  #print(pixel_cm_ratio)\n",
    "  plt.imshow(img)\n",
    "  cv2.waitKey(1)\n",
    "  cv2.imwrite(\"F:\\\\Projektseminar\\\\Edge Detection\\\\Aruco_Test_Resultat.jpg\", img)\n",
    "  i=i+1\n"
   ]
  }
 ],
 "metadata": {
  "kernelspec": {
   "display_name": "Python 3.8.13 ('base')",
   "language": "python",
   "name": "python3"
  },
  "language_info": {
   "codemirror_mode": {
    "name": "ipython",
    "version": 3
   },
   "file_extension": ".py",
   "mimetype": "text/x-python",
   "name": "python",
   "nbconvert_exporter": "python",
   "pygments_lexer": "ipython3",
   "version": "3.8.13"
  },
  "orig_nbformat": 4,
  "vscode": {
   "interpreter": {
    "hash": "c8e63aa0cab361309dbca6cdb7e4eacdd0c3d72b8dc44414b8c692f4ca28a130"
   }
  }
 },
 "nbformat": 4,
 "nbformat_minor": 2
}
