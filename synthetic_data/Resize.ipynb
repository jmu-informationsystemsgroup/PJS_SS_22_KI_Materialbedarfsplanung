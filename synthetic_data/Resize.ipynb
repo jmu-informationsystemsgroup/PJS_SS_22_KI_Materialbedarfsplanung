{
 "cells": [
  {
   "cell_type": "code",
   "execution_count": 28,
   "metadata": {},
   "outputs": [],
   "source": [
    "import numpy as np\n",
    "from PIL import Image\n",
    "import matplotlib.pyplot as plt\n",
    "import cv2"
   ]
  },
  {
   "cell_type": "code",
   "execution_count": 31,
   "metadata": {},
   "outputs": [
    {
     "ename": "AttributeError",
     "evalue": "'numpy.ndarray' object has no attribute 'thumbnail'",
     "output_type": "error",
     "traceback": [
      "\u001b[1;31m---------------------------------------------------------------------------\u001b[0m",
      "\u001b[1;31mAttributeError\u001b[0m                            Traceback (most recent call last)",
      "\u001b[1;32md:\\Projektseminar\\PJS_SS_22_KI_Materialbedarfsplanung\\synthetic_data\\Resize.ipynb Cell 2\u001b[0m in \u001b[0;36m<cell line: 4>\u001b[1;34m()\u001b[0m\n\u001b[0;32m      <a href='vscode-notebook-cell:/d%3A/Projektseminar/PJS_SS_22_KI_Materialbedarfsplanung/synthetic_data/Resize.ipynb#W2sZmlsZQ%3D%3D?line=1'>2</a>\u001b[0m \u001b[39m#img = cv2.imread('assets/material_images/4.png')\u001b[39;00m\n\u001b[0;32m      <a href='vscode-notebook-cell:/d%3A/Projektseminar/PJS_SS_22_KI_Materialbedarfsplanung/synthetic_data/Resize.ipynb#W2sZmlsZQ%3D%3D?line=2'>3</a>\u001b[0m img \u001b[39m=\u001b[39m cv2\u001b[39m.\u001b[39mimread(\u001b[39m\"\u001b[39m\u001b[39mF:/Benedikt Wirsing/Smart Switch Backup/backup/SM-G973F/SM-G973F_/SM-G973F_20220831212602/Photo/_EXTERNAL_/DCIM/Camera/IMG_20190425_210929.jpg\u001b[39m\u001b[39m\"\u001b[39m) \u001b[39m#\"D:/Projektseminar/PJS_SS_22_KI_Materialbedarfsplanung/backend/assets/material_images/4.jpg\"\u001b[39;00m\n\u001b[1;32m----> <a href='vscode-notebook-cell:/d%3A/Projektseminar/PJS_SS_22_KI_Materialbedarfsplanung/synthetic_data/Resize.ipynb#W2sZmlsZQ%3D%3D?line=3'>4</a>\u001b[0m img\u001b[39m.\u001b[39;49mthumbnail((\u001b[39m400\u001b[39m,\u001b[39m300\u001b[39m))\n\u001b[0;32m      <a href='vscode-notebook-cell:/d%3A/Projektseminar/PJS_SS_22_KI_Materialbedarfsplanung/synthetic_data/Resize.ipynb#W2sZmlsZQ%3D%3D?line=4'>5</a>\u001b[0m plt\u001b[39m.\u001b[39mimshow(img1)\n",
      "\u001b[1;31mAttributeError\u001b[0m: 'numpy.ndarray' object has no attribute 'thumbnail'"
     ]
    }
   ],
   "source": [
    "name = '4'\n",
    "#img = cv2.imread('assets/material_images/4.png')\n",
    "img = cv2.imread(\"F:/Benedikt Wirsing/Smart Switch Backup/backup/SM-G973F/SM-G973F_/SM-G973F_20220831212602/Photo/_EXTERNAL_/DCIM/Camera/IMG_20190425_210929.jpg\") #\"D:/Projektseminar/PJS_SS_22_KI_Materialbedarfsplanung/backend/assets/material_images/4.jpg\"\n",
    "img.thumbnail((400,300))\n",
    "plt.imshow(img1)\n"
   ]
  }
 ],
 "metadata": {
  "kernelspec": {
   "display_name": "Python 3.8.13 ('base')",
   "language": "python",
   "name": "python3"
  },
  "language_info": {
   "codemirror_mode": {
    "name": "ipython",
    "version": 3
   },
   "file_extension": ".py",
   "mimetype": "text/x-python",
   "name": "python",
   "nbconvert_exporter": "python",
   "pygments_lexer": "ipython3",
   "version": "3.8.13"
  },
  "orig_nbformat": 4,
  "vscode": {
   "interpreter": {
    "hash": "c8e63aa0cab361309dbca6cdb7e4eacdd0c3d72b8dc44414b8c692f4ca28a130"
   }
  }
 },
 "nbformat": 4,
 "nbformat_minor": 2
}
