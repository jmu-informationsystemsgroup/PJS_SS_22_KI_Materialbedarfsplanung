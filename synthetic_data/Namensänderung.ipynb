{
 "cells": [
  {
   "cell_type": "markdown",
   "metadata": {},
   "source": [
    "**Umbenennung**\n"
   ]
  },
  {
   "cell_type": "code",
   "execution_count": 1,
   "metadata": {},
   "outputs": [],
   "source": [
    "#Import der Pakete\n",
    "import os\n",
    "import cv2\n",
    "import PIL\n",
    "from PIL import Image\n",
    "import numpy as np\n",
    "#import mxnet as mx: nützliches Paket, lässt sich leider nicht installieren (exotischer Fehler)\n",
    "import skimage.io as io\n",
    "import skimage.transform as transform\n",
    "import matplotlib.pyplot as plt \n",
    "from matplotlib.patches import Rectangle\n",
    "from skimage import img_as_ubyte\n",
    "%matplotlib inline\n",
    "import random"
   ]
  },
  {
   "cell_type": "code",
   "execution_count": 45,
   "metadata": {},
   "outputs": [],
   "source": [
    "#Read and show Image\n",
    "import glob\n",
    "path1 = glob.glob(\"F:/Projektseminar/Baustellenbilder/Bilddaten roh/Baustelle Hettenhausen/Wand22/DSLR ohne Aufkleber/*.jpg\") #Einlesen\n",
    "img_number=1 \n",
    "\n",
    "path= 'F:/Projektseminar/Baustellenbilder/' #Ausgabe\n",
    "\n",
    "#Speichern unter anderem Namen\n",
    "img_number=1\n",
    "for file in path1:\n",
    "    img1= cv2.imread(file)\n",
    "    img=img_as_ubyte(img1)\n",
    "    cv2.imwrite(os.path.join(path+\"Wand22_\"+str(img_number)+\".jpg\"), img)\n",
    "    img_number +=1\n"
   ]
  }
 ],
 "metadata": {
  "kernelspec": {
   "display_name": "Python 3.8.13 ('base')",
   "language": "python",
   "name": "python3"
  },
  "language_info": {
   "codemirror_mode": {
    "name": "ipython",
    "version": 3
   },
   "file_extension": ".py",
   "mimetype": "text/x-python",
   "name": "python",
   "nbconvert_exporter": "python",
   "pygments_lexer": "ipython3",
   "version": "3.8.13"
  },
  "orig_nbformat": 4,
  "vscode": {
   "interpreter": {
    "hash": "c8e63aa0cab361309dbca6cdb7e4eacdd0c3d72b8dc44414b8c692f4ca28a130"
   }
  }
 },
 "nbformat": 4,
 "nbformat_minor": 2
}
