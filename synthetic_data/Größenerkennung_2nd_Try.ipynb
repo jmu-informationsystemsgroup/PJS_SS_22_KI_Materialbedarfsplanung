{
 "cells": [
  {
   "cell_type": "markdown",
   "metadata": {},
   "source": [
    "**2nd Try Größenerkennung**\n",
    "Quelle: https://www.youtube.com/watch?v=lbgl2u6KrDU"
   ]
  },
  {
   "cell_type": "code",
   "execution_count": 2,
   "metadata": {},
   "outputs": [],
   "source": [
    "import cv2\n",
    "#from object_detector import *"
   ]
  },
  {
   "cell_type": "code",
   "execution_count": null,
   "metadata": {},
   "outputs": [],
   "source": [
    "img=cv2.imread(\"F:/Projektseminar/Baustellenbilder/Bilddaten roh/Baustelle Althausen/Wand1/Smartphone ohne Aufkleber/20220621_073700569_iOS.jpg\")\n",
    "cv2.imshow(\"Image\", img)\n",
    "cv2.waitKey(0)"
   ]
  },
  {
   "cell_type": "code",
   "execution_count": null,
   "metadata": {},
   "outputs": [],
   "source": [
    "detector = HomogeneousBgDetector()\n",
    "contours=detector.detect_objects(img)\n",
    "print(contours) #Koorinaten der Boundingbox\n",
    "\n",
    "#Draw objects boundaries\n",
    "for cnt in contours: \n",
    "    cv2.polylines(img, [ctn], True, (255,0,0),2) #Linie ist Blau dank 255,0,0; Dicke 2\n",
    "    #9:30"
   ]
  }
 ],
 "metadata": {
  "kernelspec": {
   "display_name": "Python 3.8.13 ('base')",
   "language": "python",
   "name": "python3"
  },
  "language_info": {
   "codemirror_mode": {
    "name": "ipython",
    "version": 3
   },
   "file_extension": ".py",
   "mimetype": "text/x-python",
   "name": "python",
   "nbconvert_exporter": "python",
   "pygments_lexer": "ipython3",
   "version": "3.8.13"
  },
  "orig_nbformat": 4,
  "vscode": {
   "interpreter": {
    "hash": "c8e63aa0cab361309dbca6cdb7e4eacdd0c3d72b8dc44414b8c692f4ca28a130"
   }
  }
 },
 "nbformat": 4,
 "nbformat_minor": 2
}
