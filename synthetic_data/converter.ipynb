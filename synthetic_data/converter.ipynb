{
 "cells": [
  {
   "cell_type": "code",
   "execution_count": 1,
   "metadata": {},
   "outputs": [
    {
     "name": "stdout",
     "output_type": "stream",
     "text": [
      "Epoch 1/5\n",
      "1/1 [==============================] - 0s 442ms/step - loss: 4.9819\n",
      "Epoch 2/5\n",
      "1/1 [==============================] - 0s 9ms/step - loss: 4.6631\n",
      "Epoch 3/5\n",
      "1/1 [==============================] - 0s 4ms/step - loss: 4.3797\n",
      "Epoch 4/5\n",
      "1/1 [==============================] - 0s 7ms/step - loss: 4.1304\n",
      "Epoch 5/5\n",
      "1/1 [==============================] - 0s 8ms/step - loss: 3.9093\n"
     ]
    },
    {
     "name": "stderr",
     "output_type": "stream",
     "text": [
      "WARNING:absl:Found untraced functions such as _jit_compiled_convolution_op, _jit_compiled_convolution_op, _jit_compiled_convolution_op, _jit_compiled_convolution_op while saving (showing 4 of 4). These functions will not be directly callable after loading.\n"
     ]
    },
    {
     "name": "stdout",
     "output_type": "stream",
     "text": [
      "INFO:tensorflow:Assets written to: C:\\Users\\nicol\\AppData\\Local\\Temp\\tmpi9wcx0km\\assets\n"
     ]
    },
    {
     "name": "stderr",
     "output_type": "stream",
     "text": [
      "INFO:tensorflow:Assets written to: C:\\Users\\nicol\\AppData\\Local\\Temp\\tmpi9wcx0km\\assets\n"
     ]
    }
   ],
   "source": [
    "import tensorflow as tf\n",
    "# converts from keras format to tflite format\n",
    "\n",
    "# load model, insert in the folder first\n",
    "model2 = tf.keras.models.load_model('material_model.h5')\n",
    "\n",
    "# Convert the model.\n",
    "converter = tf.lite.TFLiteConverter.from_keras_model(model2)\n",
    "tflite_model = converter.convert()\n",
    "\n",
    "# Save the model.\n",
    "with open('material_model.tflite', 'wb') as f:\n",
    "  f.write(tflite_model)"
   ]
  }
 ],
 "metadata": {
  "kernelspec": {
   "display_name": "Python 3.10.5 64-bit (windows store)",
   "language": "python",
   "name": "python3"
  },
  "language_info": {
   "codemirror_mode": {
    "name": "ipython",
    "version": 3
   },
   "file_extension": ".py",
   "mimetype": "text/x-python",
   "name": "python",
   "nbconvert_exporter": "python",
   "pygments_lexer": "ipython3",
   "version": "3.10.5"
  },
  "orig_nbformat": 4,
  "vscode": {
   "interpreter": {
    "hash": "19d762ffc7d2f958e0963c75da0d959adf181f4ac62524ed3e80179df28269f1"
   }
  }
 },
 "nbformat": 4,
 "nbformat_minor": 2
}
