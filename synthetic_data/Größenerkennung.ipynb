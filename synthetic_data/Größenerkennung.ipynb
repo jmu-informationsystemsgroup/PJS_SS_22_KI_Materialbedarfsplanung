{
 "cells": [
  {
   "cell_type": "markdown",
   "metadata": {},
   "source": [
    "**Objekt Größenberechnung**\n",
    "Quelle: https://www.youtube.com/watch?v=lbgl2u6KrDU mit Code (denke ich genauer)\n",
    "Mit DinA4: https://www.youtube.com/watch?v=tk9war7_y0Q bis 11:00 \n"
   ]
  },
  {
   "cell_type": "code",
   "execution_count": 21,
   "metadata": {},
   "outputs": [
    {
     "name": "stdout",
     "output_type": "stream",
     "text": [
      "WARNING:tensorflow:Please fix your imports. Module tensorflow.python.training.saving.functional_saver has been moved to tensorflow.python.checkpoint.functional_saver. The old module will be deleted in version 2.11.\n",
      "WARNING:tensorflow:Please fix your imports. Module tensorflow.python.training.saving.checkpoint_options has been moved to tensorflow.python.checkpoint.checkpoint_options. The old module will be deleted in version 2.11.\n"
     ]
    }
   ],
   "source": [
    "import cv2\n",
    "import numpy as np\n",
    "import matplotlib.pyplot as plt \n",
    "import utils\n"
   ]
  },
  {
   "cell_type": "code",
   "execution_count": 3,
   "metadata": {},
   "outputs": [],
   "source": [
    "import glob\n",
    "#path=glob.glob(\"F:/Projektseminar/Baustellenbilder/Wand1_6.jpg\") #funktioniert aus Gründen nicht"
   ]
  },
  {
   "cell_type": "code",
   "execution_count": 1,
   "metadata": {},
   "outputs": [
    {
     "ename": "NameError",
     "evalue": "name 'cv2' is not defined",
     "output_type": "error",
     "traceback": [
      "\u001b[1;31m---------------------------------------------------------------------------\u001b[0m",
      "\u001b[1;31mNameError\u001b[0m                                 Traceback (most recent call last)",
      "\u001b[1;32mc:\\Users\\bened\\Google Drive\\Information Systems\\Projektseminar\\Code2\\PJS_SS_22_KI_Materialbedarfsplanung\\synthetic_data\\Größenerkennung.ipynb Cell 2'\u001b[0m in \u001b[0;36m<cell line: 3>\u001b[1;34m()\u001b[0m\n\u001b[0;32m      <a href='vscode-notebook-cell:/c%3A/Users/bened/Google%20Drive/Information%20Systems/Projektseminar/Code2/PJS_SS_22_KI_Materialbedarfsplanung/synthetic_data/Gr%C3%B6%C3%9Fenerkennung.ipynb#ch0000001?line=0'>1</a>\u001b[0m webcam \u001b[39m=\u001b[39m \u001b[39mFalse\u001b[39;00m\n\u001b[0;32m      <a href='vscode-notebook-cell:/c%3A/Users/bened/Google%20Drive/Information%20Systems/Projektseminar/Code2/PJS_SS_22_KI_Materialbedarfsplanung/synthetic_data/Gr%C3%B6%C3%9Fenerkennung.ipynb#ch0000001?line=1'>2</a>\u001b[0m \u001b[39m#path = '1.jpg'\u001b[39;00m\n\u001b[1;32m----> <a href='vscode-notebook-cell:/c%3A/Users/bened/Google%20Drive/Information%20Systems/Projektseminar/Code2/PJS_SS_22_KI_Materialbedarfsplanung/synthetic_data/Gr%C3%B6%C3%9Fenerkennung.ipynb#ch0000001?line=2'>3</a>\u001b[0m cap \u001b[39m=\u001b[39m cv2\u001b[39m.\u001b[39mVideoCapture(\u001b[39m0\u001b[39m)\n\u001b[0;32m      <a href='vscode-notebook-cell:/c%3A/Users/bened/Google%20Drive/Information%20Systems/Projektseminar/Code2/PJS_SS_22_KI_Materialbedarfsplanung/synthetic_data/Gr%C3%B6%C3%9Fenerkennung.ipynb#ch0000001?line=3'>4</a>\u001b[0m cap\u001b[39m.\u001b[39mset(\u001b[39m10\u001b[39m,\u001b[39m160\u001b[39m)\n\u001b[0;32m      <a href='vscode-notebook-cell:/c%3A/Users/bened/Google%20Drive/Information%20Systems/Projektseminar/Code2/PJS_SS_22_KI_Materialbedarfsplanung/synthetic_data/Gr%C3%B6%C3%9Fenerkennung.ipynb#ch0000001?line=4'>5</a>\u001b[0m cap\u001b[39m.\u001b[39mset(\u001b[39m3\u001b[39m,\u001b[39m1920\u001b[39m) \u001b[39m#width\u001b[39;00m\n",
      "\u001b[1;31mNameError\u001b[0m: name 'cv2' is not defined"
     ]
    }
   ],
   "source": [
    "webcam = False\n",
    "#path = '1.jpg'\n",
    "cap = cv2.VideoCapture(0)\n",
    "cap.set(10,160)\n",
    "cap.set(3,1920) #width\n",
    "cap.set(4,1080) #hight\n",
    "\n",
    "\n",
    "while True: \n",
    "    img = cv2.imread(\"F:/Projektseminar/Baustellenbilder/Bilddaten roh/Baustelle Althausen/Wand1/DSLR mit Aufkleber.jpg\")\n",
    "    utils.getContours(img,showCanny=True)\n",
    "    img=cv2.resize(img, (0,0), None, 0.5,0.5) #Rezise nur für Anzeige\n",
    "    plt.imshow(img)\n",
    "    cv2.imshow('Original', img)\n",
    "    cv2.waitKey(1)"
   ]
  },
  {
   "cell_type": "markdown",
   "metadata": {},
   "source": []
  }
 ],
 "metadata": {
  "kernelspec": {
   "display_name": "Python 3.8.13 ('base')",
   "language": "python",
   "name": "python3"
  },
  "language_info": {
   "codemirror_mode": {
    "name": "ipython",
    "version": 3
   },
   "file_extension": ".py",
   "mimetype": "text/x-python",
   "name": "python",
   "nbconvert_exporter": "python",
   "pygments_lexer": "ipython3",
   "version": "3.8.13"
  },
  "orig_nbformat": 4,
  "vscode": {
   "interpreter": {
    "hash": "c8e63aa0cab361309dbca6cdb7e4eacdd0c3d72b8dc44414b8c692f4ca28a130"
   }
  }
 },
 "nbformat": 4,
 "nbformat_minor": 2
}
