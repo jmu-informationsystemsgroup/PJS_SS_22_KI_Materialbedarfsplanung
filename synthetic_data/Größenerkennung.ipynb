{
 "cells": [
  {
   "cell_type": "markdown",
   "metadata": {},
   "source": [
    "**Objekt Größenberechnung**\n",
    "Quelle: https://www.youtube.com/watch?v=lbgl2u6KrDU mit Code (denke ich genauer)\n",
    "Mit DinA4: https://www.youtube.com/watch?v=tk9war7_y0Q bis 11:00 \n",
    "    ab24:00 wird A4 Papier spezifiziert\n"
   ]
  },
  {
   "cell_type": "code",
   "execution_count": 3,
   "metadata": {},
   "outputs": [],
   "source": [
    "import cv2\n",
    "import numpy as np\n",
    "import matplotlib.pyplot as plt \n",
    "import utlis\n"
   ]
  },
  {
   "cell_type": "code",
   "execution_count": 3,
   "metadata": {},
   "outputs": [],
   "source": [
    "import glob\n",
    "#path=glob.glob(\"F:/Projektseminar/Baustellenbilder/Wand1_6.jpg\") #funktioniert aus Gründen nicht"
   ]
  },
  {
   "cell_type": "code",
   "execution_count": 4,
   "metadata": {},
   "outputs": [
    {
     "ename": "NameError",
     "evalue": "name 'utils' is not defined",
     "output_type": "error",
     "traceback": [
      "\u001b[1;31m---------------------------------------------------------------------------\u001b[0m",
      "\u001b[1;31mNameError\u001b[0m                                 Traceback (most recent call last)",
      "\u001b[1;32mg:\\Meine Ablage\\Information Systems\\Projektseminar\\Code2\\PJS_SS_22_KI_Materialbedarfsplanung\\PJS_SS_22_KI_Materialbedarfsplanung\\synthetic_data\\Größenerkennung.ipynb Cell 4'\u001b[0m in \u001b[0;36m<cell line: 10>\u001b[1;34m()\u001b[0m\n\u001b[0;32m      <a href='vscode-notebook-cell:/g%3A/Meine%20Ablage/Information%20Systems/Projektseminar/Code2/PJS_SS_22_KI_Materialbedarfsplanung/PJS_SS_22_KI_Materialbedarfsplanung/synthetic_data/Gr%C3%B6%C3%9Fenerkennung.ipynb#ch0000003?line=8'>9</a>\u001b[0m \u001b[39mwhile\u001b[39;00m \u001b[39mTrue\u001b[39;00m: \n\u001b[0;32m     <a href='vscode-notebook-cell:/g%3A/Meine%20Ablage/Information%20Systems/Projektseminar/Code2/PJS_SS_22_KI_Materialbedarfsplanung/PJS_SS_22_KI_Materialbedarfsplanung/synthetic_data/Gr%C3%B6%C3%9Fenerkennung.ipynb#ch0000003?line=9'>10</a>\u001b[0m     img \u001b[39m=\u001b[39m cv2\u001b[39m.\u001b[39mimread(\u001b[39m\"\u001b[39m\u001b[39mF:/Projektseminar/Baustellenbilder/Bilddaten roh/Baustelle Althausen/Wand1/DSLR mit Aufkleber.jpg\u001b[39m\u001b[39m\"\u001b[39m)\n\u001b[1;32m---> <a href='vscode-notebook-cell:/g%3A/Meine%20Ablage/Information%20Systems/Projektseminar/Code2/PJS_SS_22_KI_Materialbedarfsplanung/PJS_SS_22_KI_Materialbedarfsplanung/synthetic_data/Gr%C3%B6%C3%9Fenerkennung.ipynb#ch0000003?line=10'>11</a>\u001b[0m     utils\u001b[39m.\u001b[39mgetContours(img,showCanny\u001b[39m=\u001b[39m\u001b[39mTrue\u001b[39;00m)\n\u001b[0;32m     <a href='vscode-notebook-cell:/g%3A/Meine%20Ablage/Information%20Systems/Projektseminar/Code2/PJS_SS_22_KI_Materialbedarfsplanung/PJS_SS_22_KI_Materialbedarfsplanung/synthetic_data/Gr%C3%B6%C3%9Fenerkennung.ipynb#ch0000003?line=11'>12</a>\u001b[0m     img\u001b[39m=\u001b[39mcv2\u001b[39m.\u001b[39mresize(img, (\u001b[39m0\u001b[39m,\u001b[39m0\u001b[39m), \u001b[39mNone\u001b[39;00m, \u001b[39m0.5\u001b[39m,\u001b[39m0.5\u001b[39m) \u001b[39m#Rezise nur für Anzeige\u001b[39;00m\n\u001b[0;32m     <a href='vscode-notebook-cell:/g%3A/Meine%20Ablage/Information%20Systems/Projektseminar/Code2/PJS_SS_22_KI_Materialbedarfsplanung/PJS_SS_22_KI_Materialbedarfsplanung/synthetic_data/Gr%C3%B6%C3%9Fenerkennung.ipynb#ch0000003?line=12'>13</a>\u001b[0m     plt\u001b[39m.\u001b[39mimshow(img)\n",
      "\u001b[1;31mNameError\u001b[0m: name 'utils' is not defined"
     ]
    }
   ],
   "source": [
    "webcam = False\n",
    "#path = '1.jpg'\n",
    "cap = cv2.VideoCapture(0)\n",
    "cap.set(10,160)\n",
    "cap.set(3,1920) #width\n",
    "cap.set(4,1080) #hight\n",
    "\n",
    "\n",
    "while True: \n",
    "    img = cv2.imread(\"F:/Projektseminar/Baustellenbilder/Bilddaten roh/Baustelle Althausen/Wand1/DSLR mit Aufkleber.jpg\")\n",
    "    img, finalContours= utlis.getContours(img,showCanny=True, draw=True)\n",
    "    img=cv2.resize(img, (0,0), None, 0.5,0.5) #Rezise nur für Anzeige\n",
    "    plt.imshow(img)\n",
    "    cv2.imshow('Original', img)\n",
    "    cv2.waitKey(1)"
   ]
  },
  {
   "cell_type": "markdown",
   "metadata": {},
   "source": []
  }
 ],
 "metadata": {
  "kernelspec": {
   "display_name": "Python 3.8.13 ('base')",
   "language": "python",
   "name": "python3"
  },
  "language_info": {
   "codemirror_mode": {
    "name": "ipython",
    "version": 3
   },
   "file_extension": ".py",
   "mimetype": "text/x-python",
   "name": "python",
   "nbconvert_exporter": "python",
   "pygments_lexer": "ipython3",
   "version": "3.8.13"
  },
  "orig_nbformat": 4,
  "vscode": {
   "interpreter": {
    "hash": "c8e63aa0cab361309dbca6cdb7e4eacdd0c3d72b8dc44414b8c692f4ca28a130"
   }
  }
 },
 "nbformat": 4,
 "nbformat_minor": 2
}
