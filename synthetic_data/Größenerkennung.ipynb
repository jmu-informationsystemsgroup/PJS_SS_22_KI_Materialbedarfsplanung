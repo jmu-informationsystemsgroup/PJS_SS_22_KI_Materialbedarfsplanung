{
 "cells": [
  {
   "cell_type": "markdown",
   "metadata": {},
   "source": [
    "**Objekt Größenberechnung**\n",
    "Quelle: https://www.youtube.com/watch?v=lbgl2u6KrDU mit Code (denke ich genauer)\n",
    "Mit DinA4: https://www.youtube.com/watch?v=tk9war7_y0Q bis 11:00 \n",
    "    ab24:00 wird A4 Papier spezifiziert\n"
   ]
  },
  {
   "cell_type": "code",
   "execution_count": 2,
   "metadata": {},
   "outputs": [],
   "source": [
    "import cv2\n",
    "import numpy as np\n",
    "import matplotlib.pyplot as plt \n",
    "import utlis\n"
   ]
  },
  {
   "cell_type": "code",
   "execution_count": 7,
   "metadata": {},
   "outputs": [],
   "source": [
    "import glob\n",
    "#path=glob.glob(\"F:/Projektseminar/Baustellenbilder/Wand1_6.jpg\") #funktioniert aus Gründen nicht"
   ]
  },
  {
   "cell_type": "code",
   "execution_count": 4,
   "metadata": {},
   "outputs": [],
   "source": [
    "cap = cv2.VideoCapture(0)\n",
    "cap.set(10,160)\n",
    "cap.set(3,1920) #width\n",
    "cap.set(4,1080) #hight\n",
    "#Skalierungsfaktor sonst wäre das Bild nur 210*297\n",
    "scale = 3\n",
    "wP = 210 *scale\n",
    "hP= 297 *scale\n",
    "\n",
    "#Bild einlesen:\n",
    "img = cv2.imread(\"F:/Projektseminar/Baustellenbilder/Wand1_6.jpg\")\n",
    "i=1\n",
    "if i<2:  #while True: \n",
    "    imgContours , conts = utlis.getContours(img,minArea=50000,filter=4) #Filter 4 weil nur nach 4eckigen Objekten gesucht wird\n",
    "    if len(conts) != 0:\n",
    "        biggest = conts[0][2]\n",
    "        #print(biggest)\n",
    "        imgWarp = utlis.warpImg(img, biggest, wP,hP)\n",
    "        imgContours2, conts2 = utlis.getContours(imgWarp,\n",
    "                                                 minArea=2000, filter=4,\n",
    "                                                 cThr=[50,50],draw = False)\n",
    "        if len(conts) != 0:\n",
    "            for obj in conts2:\n",
    "                cv2.polylines(imgContours2,[obj[2]],True,(0,255,0),2)\n",
    "                nPoints = utlis.reorder(obj[2])\n",
    "                nW = round((utlis.findDis(nPoints[0][0]//scale,nPoints[1][0]//scale)/10),1)\n",
    "                nH = round((utlis.findDis(nPoints[0][0]//scale,nPoints[2][0]//scale)/10),1)\n",
    "                cv2.arrowedLine(imgContours2, (nPoints[0][0][0], nPoints[0][0][1]), (nPoints[1][0][0], nPoints[1][0][1]),\n",
    "                                (255, 0, 255), 3, 8, 0, 0.05)\n",
    "                cv2.arrowedLine(imgContours2, (nPoints[0][0][0], nPoints[0][0][1]), (nPoints[2][0][0], nPoints[2][0][1]),\n",
    "                                (255, 0, 255), 3, 8, 0, 0.05)\n",
    "                x, y, w, h = obj[3]\n",
    "                cv2.putText(imgContours2, '{}cm'.format(nW), (x + 30, y - 10), cv2.FONT_HERSHEY_COMPLEX_SMALL, 1.5,\n",
    "                            (255, 0, 255), 2)\n",
    "                cv2.putText(imgContours2, '{}cm'.format(nH), (x - 70, y + h // 2), cv2.FONT_HERSHEY_COMPLEX_SMALL, 1.5,\n",
    "                            (255, 0, 255), 2)\n",
    "        cv2.imshow('A4', imgContours2)\n",
    " \n",
    "    #img = cv2.resize(img,(0,0),None,0.5,0.5) #error: OpenCV(4.5.5) D:\\a\\opencv-python\\opencv-python\\opencv\\modules\\imgproc\\src\\resize.cpp:4058: error: (-215:Assertion failed) !dsize.empty() in function 'cv::resize'\n",
    "    #cv2.imshow('Original',img)\n",
    "    cv2.waitKey(1)\n",
    "    i=i+1"
   ]
  },
  {
   "cell_type": "code",
   "execution_count": 1,
   "metadata": {},
   "outputs": [
    {
     "ename": "NameError",
     "evalue": "name 'cv2' is not defined",
     "output_type": "error",
     "traceback": [
      "\u001b[1;31m---------------------------------------------------------------------------\u001b[0m",
      "\u001b[1;31mNameError\u001b[0m                                 Traceback (most recent call last)",
      "\u001b[1;32md:\\Projektseminar\\PJS_SS_22_KI_Materialbedarfsplanung\\synthetic_data\\Größenerkennung.ipynb Cell 5'\u001b[0m in \u001b[0;36m<cell line: 1>\u001b[1;34m()\u001b[0m\n\u001b[1;32m----> <a href='vscode-notebook-cell:/d%3A/Projektseminar/PJS_SS_22_KI_Materialbedarfsplanung/synthetic_data/Gr%C3%B6%C3%9Fenerkennung.ipynb#ch0000005?line=0'>1</a>\u001b[0m img \u001b[39m=\u001b[39m cv2\u001b[39m.\u001b[39mimread(\u001b[39m\"\u001b[39m\u001b[39mF:/Projektseminar/Baustellenbilder/Wand1_6.jpg\u001b[39m\u001b[39m\"\u001b[39m)\n\u001b[0;32m      <a href='vscode-notebook-cell:/d%3A/Projektseminar/PJS_SS_22_KI_Materialbedarfsplanung/synthetic_data/Gr%C3%B6%C3%9Fenerkennung.ipynb#ch0000005?line=1'>2</a>\u001b[0m \u001b[39m#cv2.imshow(\"Bild\", img)\u001b[39;00m\n\u001b[0;32m      <a href='vscode-notebook-cell:/d%3A/Projektseminar/PJS_SS_22_KI_Materialbedarfsplanung/synthetic_data/Gr%C3%B6%C3%9Fenerkennung.ipynb#ch0000005?line=2'>3</a>\u001b[0m plt\u001b[39m.\u001b[39mimshow(img)\n",
      "\u001b[1;31mNameError\u001b[0m: name 'cv2' is not defined"
     ]
    }
   ],
   "source": [
    "img = cv2.imread(\"F:/Projektseminar/Baustellenbilder/Wand1_6.jpg\")\n",
    "#cv2.imshow(\"Bild\", img)\n",
    "plt.imshow(img)"
   ]
  }
 ],
 "metadata": {
  "kernelspec": {
   "display_name": "Python 3.8.13 ('base')",
   "language": "python",
   "name": "python3"
  },
  "language_info": {
   "codemirror_mode": {
    "name": "ipython",
    "version": 3
   },
   "file_extension": ".py",
   "mimetype": "text/x-python",
   "name": "python",
   "nbconvert_exporter": "python",
   "pygments_lexer": "ipython3",
   "version": "3.8.13"
  },
  "orig_nbformat": 4,
  "vscode": {
   "interpreter": {
    "hash": "c8e63aa0cab361309dbca6cdb7e4eacdd0c3d72b8dc44414b8c692f4ca28a130"
   }
  }
 },
 "nbformat": 4,
 "nbformat_minor": 2
}
